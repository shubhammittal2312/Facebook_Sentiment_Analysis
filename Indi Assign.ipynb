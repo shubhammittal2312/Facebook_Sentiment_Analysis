{
 "cells": [
  {
   "cell_type": "code",
   "execution_count": 58,
   "id": "5faa754c",
   "metadata": {},
   "outputs": [],
   "source": [
    "#Social Media Analytics for Business Intelligence - Individual Assignment (DAT - 9731, BOS1)"
   ]
  },
  {
   "cell_type": "code",
   "execution_count": 59,
   "id": "bfed371f",
   "metadata": {},
   "outputs": [],
   "source": [
    "import pandas as pd #importing library from pandas"
   ]
  },
  {
   "cell_type": "code",
   "execution_count": 60,
   "id": "02b9218f",
   "metadata": {},
   "outputs": [],
   "source": [
    "import numpy as np #importing numpy array"
   ]
  },
  {
   "cell_type": "code",
   "execution_count": 61,
   "id": "4ead04c7",
   "metadata": {},
   "outputs": [],
   "source": [
    "import matplotlib.pyplot as plt #importing matplotlib"
   ]
  },
  {
   "cell_type": "code",
   "execution_count": 62,
   "id": "d2b1eda5",
   "metadata": {},
   "outputs": [
    {
     "name": "stdout",
     "output_type": "stream",
     "text": [
      "Requirement already satisfied: nltk in c:\\users\\hp\\anaconda3\\lib\\site-packages (3.6.1)\n",
      "Requirement already satisfied: joblib in c:\\users\\hp\\anaconda3\\lib\\site-packages (from nltk) (1.0.1)\n",
      "Requirement already satisfied: click in c:\\users\\hp\\anaconda3\\lib\\site-packages (from nltk) (7.1.2)\n",
      "Requirement already satisfied: tqdm in c:\\users\\hp\\anaconda3\\lib\\site-packages (from nltk) (4.59.0)\n",
      "Requirement already satisfied: regex in c:\\users\\hp\\anaconda3\\lib\\site-packages (from nltk) (2021.4.4)\n",
      "Note: you may need to restart the kernel to use updated packages.\n"
     ]
    }
   ],
   "source": [
    "pip install nltk #installting nltk"
   ]
  },
  {
   "cell_type": "code",
   "execution_count": 63,
   "id": "b6250ac3",
   "metadata": {},
   "outputs": [
    {
     "name": "stdout",
     "output_type": "stream",
     "text": [
      "Requirement already satisfied: tensorflow in c:\\users\\hp\\anaconda3\\lib\\site-packages (2.5.0)\n",
      "Requirement already satisfied: wrapt~=1.12.1 in c:\\users\\hp\\anaconda3\\lib\\site-packages (from tensorflow) (1.12.1)\n",
      "Requirement already satisfied: protobuf>=3.9.2 in c:\\users\\hp\\anaconda3\\lib\\site-packages (from tensorflow) (3.17.3)\n",
      "Requirement already satisfied: tensorflow-estimator<2.6.0,>=2.5.0rc0 in c:\\users\\hp\\anaconda3\\lib\\site-packages (from tensorflow) (2.5.0)\n",
      "Requirement already satisfied: gast==0.4.0 in c:\\users\\hp\\anaconda3\\lib\\site-packages (from tensorflow) (0.4.0)\n",
      "Requirement already satisfied: typing-extensions~=3.7.4 in c:\\users\\hp\\anaconda3\\lib\\site-packages (from tensorflow) (3.7.4.3)\n",
      "Requirement already satisfied: keras-nightly~=2.5.0.dev in c:\\users\\hp\\anaconda3\\lib\\site-packages (from tensorflow) (2.5.0.dev2021032900)\n",
      "Requirement already satisfied: google-pasta~=0.2 in c:\\users\\hp\\anaconda3\\lib\\site-packages (from tensorflow) (0.2.0)\n",
      "Requirement already satisfied: six~=1.15.0 in c:\\users\\hp\\anaconda3\\lib\\site-packages (from tensorflow) (1.15.0)\n",
      "Requirement already satisfied: absl-py~=0.10 in c:\\users\\hp\\anaconda3\\lib\\site-packages (from tensorflow) (0.13.0)\n",
      "Requirement already satisfied: wheel~=0.35 in c:\\users\\hp\\anaconda3\\lib\\site-packages (from tensorflow) (0.36.2)\n",
      "Requirement already satisfied: flatbuffers~=1.12.0 in c:\\users\\hp\\anaconda3\\lib\\site-packages (from tensorflow) (1.12)\n",
      "Requirement already satisfied: grpcio~=1.34.0 in c:\\users\\hp\\anaconda3\\lib\\site-packages (from tensorflow) (1.34.1)\n",
      "Requirement already satisfied: opt-einsum~=3.3.0 in c:\\users\\hp\\anaconda3\\lib\\site-packages (from tensorflow) (3.3.0)\n",
      "Requirement already satisfied: tensorboard~=2.5 in c:\\users\\hp\\anaconda3\\lib\\site-packages (from tensorflow) (2.5.0)\n",
      "Requirement already satisfied: keras-preprocessing~=1.1.2 in c:\\users\\hp\\anaconda3\\lib\\site-packages (from tensorflow) (1.1.2)\n",
      "Requirement already satisfied: h5py~=3.1.0 in c:\\users\\hp\\anaconda3\\lib\\site-packages (from tensorflow) (3.1.0)\n",
      "Requirement already satisfied: astunparse~=1.6.3 in c:\\users\\hp\\anaconda3\\lib\\site-packages (from tensorflow) (1.6.3)\n",
      "Requirement already satisfied: termcolor~=1.1.0 in c:\\users\\hp\\anaconda3\\lib\\site-packages (from tensorflow) (1.1.0)\n",
      "Requirement already satisfied: numpy~=1.19.2 in c:\\users\\hp\\anaconda3\\lib\\site-packages (from tensorflow) (1.19.5)\n",
      "Requirement already satisfied: tensorboard-data-server<0.7.0,>=0.6.0 in c:\\users\\hp\\anaconda3\\lib\\site-packages (from tensorboard~=2.5->tensorflow) (0.6.1)\n",
      "Requirement already satisfied: requests<3,>=2.21.0 in c:\\users\\hp\\anaconda3\\lib\\site-packages (from tensorboard~=2.5->tensorflow) (2.25.1)\n",
      "Requirement already satisfied: tensorboard-plugin-wit>=1.6.0 in c:\\users\\hp\\anaconda3\\lib\\site-packages (from tensorboard~=2.5->tensorflow) (1.8.0)\n",
      "Requirement already satisfied: setuptools>=41.0.0 in c:\\users\\hp\\anaconda3\\lib\\site-packages (from tensorboard~=2.5->tensorflow) (52.0.0.post20210125)\n",
      "Requirement already satisfied: google-auth<2,>=1.6.3 in c:\\users\\hp\\anaconda3\\lib\\site-packages (from tensorboard~=2.5->tensorflow) (1.33.1)\n",
      "Requirement already satisfied: werkzeug>=0.11.15 in c:\\users\\hp\\anaconda3\\lib\\site-packages (from tensorboard~=2.5->tensorflow) (1.0.1)\n",
      "Requirement already satisfied: google-auth-oauthlib<0.5,>=0.4.1 in c:\\users\\hp\\anaconda3\\lib\\site-packages (from tensorboard~=2.5->tensorflow) (0.4.4)\n",
      "Requirement already satisfied: markdown>=2.6.8 in c:\\users\\hp\\anaconda3\\lib\\site-packages (from tensorboard~=2.5->tensorflow) (3.3.4)\n",
      "Requirement already satisfied: rsa<5,>=3.1.4 in c:\\users\\hp\\anaconda3\\lib\\site-packages (from google-auth<2,>=1.6.3->tensorboard~=2.5->tensorflow) (4.7.2)\n",
      "Requirement already satisfied: pyasn1-modules>=0.2.1 in c:\\users\\hp\\anaconda3\\lib\\site-packages (from google-auth<2,>=1.6.3->tensorboard~=2.5->tensorflow) (0.2.8)\n",
      "Requirement already satisfied: cachetools<5.0,>=2.0.0 in c:\\users\\hp\\anaconda3\\lib\\site-packages (from google-auth<2,>=1.6.3->tensorboard~=2.5->tensorflow) (4.2.2)\n",
      "Requirement already satisfied: requests-oauthlib>=0.7.0 in c:\\users\\hp\\anaconda3\\lib\\site-packages (from google-auth-oauthlib<0.5,>=0.4.1->tensorboard~=2.5->tensorflow) (1.3.0)\n",
      "Requirement already satisfied: pyasn1<0.5.0,>=0.4.6 in c:\\users\\hp\\anaconda3\\lib\\site-packages (from pyasn1-modules>=0.2.1->google-auth<2,>=1.6.3->tensorboard~=2.5->tensorflow) (0.4.8)\n",
      "Requirement already satisfied: certifi>=2017.4.17 in c:\\users\\hp\\anaconda3\\lib\\site-packages (from requests<3,>=2.21.0->tensorboard~=2.5->tensorflow) (2020.12.5)\n",
      "Requirement already satisfied: chardet<5,>=3.0.2 in c:\\users\\hp\\anaconda3\\lib\\site-packages (from requests<3,>=2.21.0->tensorboard~=2.5->tensorflow) (4.0.0)\n",
      "Requirement already satisfied: urllib3<1.27,>=1.21.1 in c:\\users\\hp\\anaconda3\\lib\\site-packages (from requests<3,>=2.21.0->tensorboard~=2.5->tensorflow) (1.26.4)\n",
      "Requirement already satisfied: idna<3,>=2.5 in c:\\users\\hp\\anaconda3\\lib\\site-packages (from requests<3,>=2.21.0->tensorboard~=2.5->tensorflow) (2.10)\n",
      "Requirement already satisfied: oauthlib>=3.0.0 in c:\\users\\hp\\anaconda3\\lib\\site-packages (from requests-oauthlib>=0.7.0->google-auth-oauthlib<0.5,>=0.4.1->tensorboard~=2.5->tensorflow) (3.1.1)\n",
      "Note: you may need to restart the kernel to use updated packages.\n"
     ]
    }
   ],
   "source": [
    "pip install tensorflow #installing tensorflow for keras"
   ]
  },
  {
   "cell_type": "code",
   "execution_count": 64,
   "id": "e7bccf2c",
   "metadata": {},
   "outputs": [],
   "source": [
    "fb=pd.read_csv(r'C:\\Users\\hp\\Desktop\\Hult Boston\\Social Media Analytics\\fb_sentiment.csv') #reading the csv file"
   ]
  },
  {
   "cell_type": "code",
   "execution_count": 65,
   "id": "bcc885e7",
   "metadata": {},
   "outputs": [
    {
     "data": {
      "text/html": [
       "<div>\n",
       "<style scoped>\n",
       "    .dataframe tbody tr th:only-of-type {\n",
       "        vertical-align: middle;\n",
       "    }\n",
       "\n",
       "    .dataframe tbody tr th {\n",
       "        vertical-align: top;\n",
       "    }\n",
       "\n",
       "    .dataframe thead th {\n",
       "        text-align: right;\n",
       "    }\n",
       "</style>\n",
       "<table border=\"1\" class=\"dataframe\">\n",
       "  <thead>\n",
       "    <tr style=\"text-align: right;\">\n",
       "      <th></th>\n",
       "      <th>Unnamed: 0</th>\n",
       "      <th>FBPost</th>\n",
       "      <th>Label</th>\n",
       "    </tr>\n",
       "  </thead>\n",
       "  <tbody>\n",
       "    <tr>\n",
       "      <th>0</th>\n",
       "      <td>0</td>\n",
       "      <td>Drug Runners and  a U.S. Senator have somethin...</td>\n",
       "      <td>O</td>\n",
       "    </tr>\n",
       "    <tr>\n",
       "      <th>1</th>\n",
       "      <td>1</td>\n",
       "      <td>Heres a single, to add, to Kindle. Just read t...</td>\n",
       "      <td>O</td>\n",
       "    </tr>\n",
       "    <tr>\n",
       "      <th>2</th>\n",
       "      <td>2</td>\n",
       "      <td>If you tire of Non-Fiction.. Check out http://...</td>\n",
       "      <td>O</td>\n",
       "    </tr>\n",
       "    <tr>\n",
       "      <th>3</th>\n",
       "      <td>3</td>\n",
       "      <td>Ghost of Round Island is supposedly nonfiction.</td>\n",
       "      <td>O</td>\n",
       "    </tr>\n",
       "    <tr>\n",
       "      <th>4</th>\n",
       "      <td>4</td>\n",
       "      <td>Why is Barnes and Nobles version of the Kindle...</td>\n",
       "      <td>N</td>\n",
       "    </tr>\n",
       "  </tbody>\n",
       "</table>\n",
       "</div>"
      ],
      "text/plain": [
       "   Unnamed: 0                                             FBPost Label\n",
       "0           0  Drug Runners and  a U.S. Senator have somethin...     O\n",
       "1           1  Heres a single, to add, to Kindle. Just read t...     O\n",
       "2           2  If you tire of Non-Fiction.. Check out http://...     O\n",
       "3           3    Ghost of Round Island is supposedly nonfiction.     O\n",
       "4           4  Why is Barnes and Nobles version of the Kindle...     N"
      ]
     },
     "execution_count": 65,
     "metadata": {},
     "output_type": "execute_result"
    }
   ],
   "source": [
    "fb.head() #reading first five rows from table"
   ]
  },
  {
   "cell_type": "code",
   "execution_count": 66,
   "id": "24962144",
   "metadata": {},
   "outputs": [],
   "source": [
    "# lower-casing the coloumn names\n",
    "fb.columns=map(str.lower, fb.columns)"
   ]
  },
  {
   "cell_type": "code",
   "execution_count": 67,
   "id": "2219e0fd",
   "metadata": {},
   "outputs": [
    {
     "data": {
      "text/plain": [
       "(1000, 3)"
      ]
     },
     "execution_count": 67,
     "metadata": {},
     "output_type": "execute_result"
    }
   ],
   "source": [
    "# checkin the shape of the DF\n",
    "fb.shape"
   ]
  },
  {
   "cell_type": "code",
   "execution_count": 68,
   "id": "d6ce9760",
   "metadata": {},
   "outputs": [],
   "source": [
    "#lowercasing the text and removing symbols though RegEx\n",
    "import re\n",
    "fb['fbpost'] = fb['fbpost'].apply(lambda x: x.lower())\n",
    "fb['fbpost'] = fb['fbpost'].apply((lambda x: re.sub('[^a-zA-z0-9\\s]','',x)))\n",
    "fb = fb[fb.label != \"O\"]\n",
    "max_fatures = 2000"
   ]
  },
  {
   "cell_type": "code",
   "execution_count": 69,
   "id": "6ebddc1d",
   "metadata": {},
   "outputs": [
    {
     "name": "stderr",
     "output_type": "stream",
     "text": [
      "[nltk_data] Downloading package punkt to\n",
      "[nltk_data]     C:\\Users\\hp\\AppData\\Roaming\\nltk_data...\n",
      "[nltk_data]   Package punkt is already up-to-date!\n"
     ]
    },
    {
     "data": {
      "text/plain": [
       "True"
      ]
     },
     "execution_count": 69,
     "metadata": {},
     "output_type": "execute_result"
    }
   ],
   "source": [
    "import nltk.data\n",
    "nltk.download('punkt')"
   ]
  },
  {
   "cell_type": "code",
   "execution_count": 70,
   "id": "72dfd1bb",
   "metadata": {},
   "outputs": [
    {
     "name": "stdout",
     "output_type": "stream",
     "text": [
      "Requirement already satisfied: mosestokenizer in c:\\users\\hp\\anaconda3\\lib\\site-packages (1.1.0)\n",
      "Requirement already satisfied: toolwrapper in c:\\users\\hp\\anaconda3\\lib\\site-packages (from mosestokenizer) (2.1.0)\n",
      "Requirement already satisfied: uctools in c:\\users\\hp\\anaconda3\\lib\\site-packages (from mosestokenizer) (1.3.0)\n",
      "Requirement already satisfied: openfile in c:\\users\\hp\\anaconda3\\lib\\site-packages (from mosestokenizer) (0.0.7)\n",
      "Requirement already satisfied: docopt in c:\\users\\hp\\anaconda3\\lib\\site-packages (from mosestokenizer) (0.6.2)\n",
      "Note: you may need to restart the kernel to use updated packages.\n"
     ]
    }
   ],
   "source": [
    "pip install mosestokenizer "
   ]
  },
  {
   "cell_type": "code",
   "execution_count": 71,
   "id": "728cab26",
   "metadata": {},
   "outputs": [],
   "source": [
    "from mosestokenizer import MosesTokenizer, MosesDetokenizer"
   ]
  },
  {
   "cell_type": "code",
   "execution_count": 74,
   "id": "9d7c24da",
   "metadata": {},
   "outputs": [],
   "source": [
    "from sklearn.feature_extraction.text import CountVectorizer\n",
    "from keras.preprocessing.text import Tokenizer\n",
    "from keras.preprocessing.sequence import pad_sequences\n",
    "from keras.models import Sequential\n",
    "from keras.layers import Dense, Embedding, LSTM, SpatialDropout1D\n",
    "from sklearn.model_selection import train_test_split\n",
    "from keras.utils.np_utils import to_categorical\n",
    "import pandas as pd\n",
    "import numpy as np\n",
    "import matplotlib.pyplot as plt"
   ]
  },
  {
   "cell_type": "code",
   "execution_count": 75,
   "id": "f1c33c0a",
   "metadata": {},
   "outputs": [
    {
     "name": "stdout",
     "output_type": "stream",
     "text": [
      "(482, 203) (482, 2)\n",
      "(238, 203) (238, 2)\n"
     ]
    }
   ],
   "source": [
    "import re\n",
    "fb['fbpost'] = fb['fbpost'].apply(lambda x: x.lower())\n",
    "fb['fbpost'] = fb['fbpost'].apply((lambda x: re.sub('[^a-zA-z0-9\\s]','',x)))\n",
    "fb = fb[fb.label != \"O\"]\n",
    "max_fatures = 2000\n",
    "tokenizer = Tokenizer(num_words=max_fatures, split=' ')\n",
    "tokenizer.fit_on_texts(fb['fbpost'].values)\n",
    "X = tokenizer.texts_to_sequences(fb['fbpost'].values)\n",
    "X = pad_sequences(X)\n",
    "fb.label.value_counts()\n",
    "Y = pd.get_dummies(fb['label']).values\n",
    "X_train, X_test, Y_train, Y_test = train_test_split(X,Y, test_size = 0.33, random_state = 42)\n",
    "#Here the lables are checked after the removal of the \"other\" sentimented comments. \n",
    "#Also some preperation to the algorithm, as preparing the test-, and training sets are done.\n",
    "print(X_train.shape,Y_train.shape) \n",
    "print(X_test.shape,Y_test.shape)\n",
    "#The Neural Network\n",
    "#In this section, the algorithm is prepared with following features:\n",
    "#The model is Sequential\n",
    "#The model type is an LSTM model\n",
    "embed_dim = 200\n",
    "lstm_out = 200"
   ]
  },
  {
   "cell_type": "code",
   "execution_count": 78,
   "id": "31ace16c",
   "metadata": {},
   "outputs": [
    {
     "name": "stdout",
     "output_type": "stream",
     "text": [
      "Model: \"sequential_2\"\n",
      "_________________________________________________________________\n",
      "Layer (type)                 Output Shape              Param #   \n",
      "=================================================================\n",
      "embedding_2 (Embedding)      (None, 203, 200)          400000    \n",
      "_________________________________________________________________\n",
      "spatial_dropout1d_2 (Spatial (None, 203, 200)          0         \n",
      "_________________________________________________________________\n",
      "lstm_2 (LSTM)                (None, 200)               320800    \n",
      "_________________________________________________________________\n",
      "dense_2 (Dense)              (None, 2)                 402       \n",
      "=================================================================\n",
      "Total params: 721,202\n",
      "Trainable params: 721,202\n",
      "Non-trainable params: 0\n",
      "_________________________________________________________________\n",
      "None\n",
      "Epoch 1/7\n",
      "16/16 - 40s - loss: 0.4908 - accuracy: 0.8693\n",
      "Epoch 2/7\n",
      "16/16 - 30s - loss: 0.3254 - accuracy: 0.8963\n",
      "Epoch 3/7\n",
      "16/16 - 30s - loss: 0.3172 - accuracy: 0.8963\n",
      "Epoch 4/7\n",
      "16/16 - 31s - loss: 0.2341 - accuracy: 0.8983\n",
      "Epoch 5/7\n",
      "16/16 - 32s - loss: 0.1740 - accuracy: 0.9315\n",
      "Epoch 6/7\n",
      "16/16 - 32s - loss: 0.1193 - accuracy: 0.9544\n",
      "Epoch 7/7\n",
      "16/16 - 31s - loss: 0.0598 - accuracy: 0.9772\n"
     ]
    },
    {
     "data": {
      "image/png": "[encoded data removed]",
      "text/plain": [
       "<Figure size 504x504 with 1 Axes>"
      ]
     },
     "metadata": {
      "needs_background": "light"
     },
     "output_type": "display_data"
    },
    {
     "name": "stdout",
     "output_type": "stream",
     "text": [
      "8/8 [==============================] - 5s 323ms/step - loss: 0.3633 - accuracy: 0.8782\n",
      "score: 0.36\n",
      "accuracy: 0.88\n"
     ]
    }
   ],
   "source": [
    "model = Sequential()\n",
    "model.add(Embedding(max_fatures, embed_dim,input_length = X.shape[1]))\n",
    "model.add(SpatialDropout1D(0.4))\n",
    "model.add(LSTM(lstm_out, dropout=0.2, recurrent_dropout=0.2))\n",
    "model.add(Dense(2,activation='softmax'))\n",
    "model.compile(loss = 'categorical_crossentropy', optimizer='adam',metrics = ['accuracy'])\n",
    "print(model.summary())\n",
    "# Here we train the model\n",
    "batch_size = 32\n",
    "hist = model.fit(X_train, Y_train, epochs = 7, batch_size=batch_size, verbose = 2)\n",
    "#Plotting a histogram over the 7 epocs and plotting the accuracy and loss\n",
    "history = pd.DataFrame(hist.history)\n",
    "plt.figure(figsize=(7,7));\n",
    "plt.plot(history[\"loss\"]);\n",
    "plt.plot(history[\"accuracy\"]);\n",
    "plt.title(\"Loss and accuracy of model\");\n",
    "plt.show();\n",
    "#Testing the model, and retrieveing score and accuracy:\n",
    "score,accuracy = model.evaluate(X_test,Y_test)\n",
    "print(\"score: %.2f\" % (score))\n",
    "print(\"accuracy: %.2f\" % (accuracy))\n",
    "#now we validate for the models accuracy in predicting either a positive, or a negative score:\n",
    "validation_size = 1500"
   ]
  },
  {
   "cell_type": "code",
   "execution_count": 79,
   "id": "f4b36479",
   "metadata": {},
   "outputs": [],
   "source": [
    "X_validate = X_test[-validation_size:]\n",
    "Y_validate = Y_test[-validation_size:]\n",
    "x_test = X_test[:-validation_size]\n",
    "y_test = Y_test[:-validation_size]"
   ]
  },
  {
   "cell_type": "code",
   "execution_count": 80,
   "id": "51d496c9",
   "metadata": {},
   "outputs": [
    {
     "name": "stdout",
     "output_type": "stream",
     "text": [
      "1/1 - 2s\n",
      "1/1 - 0s\n",
      "1/1 - 0s\n",
      "1/1 - 0s\n",
      "1/1 - 0s\n",
      "1/1 - 0s\n",
      "1/1 - 0s\n",
      "1/1 - 0s\n",
      "1/1 - 0s\n",
      "1/1 - 0s\n",
      "1/1 - 0s\n",
      "1/1 - 0s\n",
      "1/1 - 0s\n",
      "1/1 - 0s\n",
      "1/1 - 0s\n",
      "1/1 - 0s\n",
      "1/1 - 0s\n",
      "1/1 - 0s\n",
      "1/1 - 0s\n",
      "1/1 - 0s\n",
      "1/1 - 0s\n",
      "1/1 - 0s\n",
      "1/1 - 0s\n",
      "1/1 - 0s\n",
      "1/1 - 0s\n",
      "1/1 - 0s\n",
      "1/1 - 0s\n",
      "1/1 - 0s\n",
      "1/1 - 0s\n",
      "1/1 - 0s\n",
      "1/1 - 0s\n",
      "1/1 - 0s\n",
      "1/1 - 0s\n",
      "1/1 - 0s\n",
      "1/1 - 0s\n",
      "1/1 - 0s\n",
      "1/1 - 0s\n",
      "1/1 - 0s\n",
      "1/1 - 0s\n",
      "1/1 - 0s\n",
      "1/1 - 0s\n",
      "1/1 - 0s\n",
      "1/1 - 0s\n",
      "1/1 - 0s\n",
      "1/1 - 0s\n",
      "1/1 - 0s\n",
      "1/1 - 0s\n",
      "1/1 - 0s\n",
      "1/1 - 0s\n",
      "1/1 - 0s\n",
      "1/1 - 0s\n",
      "1/1 - 0s\n",
      "1/1 - 0s\n",
      "1/1 - 0s\n",
      "1/1 - 0s\n",
      "1/1 - 0s\n",
      "1/1 - 0s\n",
      "1/1 - 0s\n",
      "1/1 - 0s\n",
      "1/1 - 0s\n",
      "1/1 - 0s\n",
      "1/1 - 0s\n",
      "1/1 - 0s\n",
      "1/1 - 0s\n",
      "1/1 - 0s\n",
      "1/1 - 0s\n",
      "1/1 - 0s\n",
      "1/1 - 0s\n",
      "1/1 - 0s\n",
      "1/1 - 0s\n",
      "1/1 - 0s\n",
      "1/1 - 0s\n",
      "1/1 - 0s\n",
      "1/1 - 0s\n",
      "1/1 - 0s\n",
      "1/1 - 0s\n",
      "1/1 - 0s\n",
      "1/1 - 0s\n",
      "1/1 - 0s\n",
      "1/1 - 0s\n",
      "1/1 - 0s\n",
      "1/1 - 0s\n",
      "1/1 - 0s\n",
      "1/1 - 0s\n",
      "1/1 - 0s\n",
      "1/1 - 0s\n",
      "1/1 - 0s\n",
      "1/1 - 0s\n",
      "1/1 - 0s\n",
      "1/1 - 0s\n",
      "1/1 - 0s\n",
      "1/1 - 0s\n",
      "1/1 - 0s\n",
      "1/1 - 0s\n",
      "1/1 - 0s\n",
      "1/1 - 0s\n",
      "1/1 - 0s\n",
      "1/1 - 0s\n",
      "1/1 - 0s\n",
      "1/1 - 0s\n",
      "1/1 - 0s\n",
      "1/1 - 0s\n",
      "1/1 - 0s\n",
      "1/1 - 0s\n",
      "1/1 - 0s\n",
      "1/1 - 0s\n",
      "1/1 - 0s\n",
      "1/1 - 0s\n",
      "1/1 - 0s\n",
      "1/1 - 0s\n",
      "1/1 - 0s\n",
      "1/1 - 0s\n",
      "1/1 - 0s\n",
      "1/1 - 0s\n",
      "1/1 - 0s\n",
      "1/1 - 0s\n",
      "1/1 - 0s\n",
      "1/1 - 0s\n",
      "1/1 - 0s\n",
      "1/1 - 0s\n",
      "1/1 - 0s\n",
      "1/1 - 0s\n",
      "1/1 - 0s\n",
      "1/1 - 0s\n",
      "1/1 - 0s\n",
      "1/1 - 0s\n",
      "1/1 - 0s\n",
      "1/1 - 0s\n",
      "1/1 - 0s\n",
      "1/1 - 0s\n",
      "1/1 - 0s\n",
      "1/1 - 0s\n",
      "1/1 - 0s\n",
      "1/1 - 0s\n",
      "1/1 - 0s\n",
      "1/1 - 0s\n",
      "1/1 - 0s\n",
      "1/1 - 0s\n",
      "1/1 - 0s\n",
      "1/1 - 0s\n",
      "1/1 - 0s\n",
      "1/1 - 0s\n",
      "1/1 - 0s\n",
      "1/1 - 0s\n",
      "1/1 - 0s\n",
      "1/1 - 0s\n",
      "1/1 - 0s\n",
      "1/1 - 0s\n",
      "1/1 - 0s\n",
      "1/1 - 0s\n",
      "1/1 - 0s\n",
      "1/1 - 0s\n",
      "1/1 - 0s\n",
      "1/1 - 0s\n",
      "1/1 - 0s\n",
      "1/1 - 0s\n",
      "1/1 - 0s\n",
      "1/1 - 0s\n",
      "1/1 - 0s\n",
      "1/1 - 0s\n",
      "1/1 - 0s\n",
      "1/1 - 0s\n",
      "1/1 - 0s\n",
      "1/1 - 0s\n",
      "1/1 - 0s\n",
      "1/1 - 0s\n",
      "1/1 - 0s\n",
      "1/1 - 0s\n",
      "1/1 - 0s\n",
      "1/1 - 0s\n",
      "1/1 - 0s\n",
      "1/1 - 0s\n",
      "1/1 - 0s\n",
      "1/1 - 0s\n",
      "1/1 - 0s\n",
      "1/1 - 0s\n",
      "1/1 - 0s\n",
      "1/1 - 0s\n",
      "1/1 - 0s\n",
      "1/1 - 0s\n",
      "1/1 - 0s\n",
      "1/1 - 0s\n",
      "1/1 - 0s\n",
      "1/1 - 0s\n",
      "1/1 - 0s\n",
      "1/1 - 0s\n",
      "1/1 - 0s\n",
      "1/1 - 0s\n",
      "1/1 - 0s\n",
      "1/1 - 0s\n",
      "1/1 - 0s\n",
      "1/1 - 0s\n",
      "1/1 - 0s\n",
      "1/1 - 0s\n",
      "1/1 - 0s\n",
      "1/1 - 0s\n",
      "1/1 - 0s\n",
      "1/1 - 0s\n",
      "1/1 - 0s\n",
      "1/1 - 0s\n",
      "1/1 - 0s\n",
      "1/1 - 0s\n",
      "1/1 - 0s\n",
      "1/1 - 0s\n",
      "1/1 - 0s\n",
      "1/1 - 0s\n",
      "1/1 - 0s\n",
      "1/1 - 0s\n",
      "1/1 - 0s\n",
      "1/1 - 0s\n",
      "1/1 - 0s\n",
      "1/1 - 0s\n",
      "1/1 - 0s\n",
      "1/1 - 0s\n",
      "1/1 - 0s\n",
      "1/1 - 0s\n",
      "1/1 - 0s\n",
      "1/1 - 0s\n",
      "1/1 - 0s\n",
      "1/1 - 0s\n",
      "1/1 - 0s\n",
      "1/1 - 0s\n",
      "1/1 - 0s\n",
      "1/1 - 0s\n",
      "1/1 - 0s\n",
      "1/1 - 0s\n",
      "1/1 - 0s\n",
      "1/1 - 0s\n",
      "1/1 - 0s\n",
      "1/1 - 0s\n",
      "1/1 - 0s\n",
      "1/1 - 0s\n",
      "1/1 - 0s\n",
      "1/1 - 0s\n",
      "1/1 - 0s\n",
      "1/1 - 0s\n",
      "1/1 - 0s\n",
      "1/1 - 0s\n",
      "positive_acc 96.17224880382776 %\n",
      "negative_acc 27.586206896551722 %\n"
     ]
    }
   ],
   "source": [
    "pos_cnt, neg_cnt, pos_correct, neg_correct = 0, 0, 0, 0\n",
    "for x in range(len(X_validate)):\n",
    "    result = model.predict(X_validate[x].reshape(1,x_test.shape[1]),verbose = 2)[0]\n",
    "    if np.argmax(result) == np.argmax(Y_validate[x]):\n",
    "        if np.argmax(Y_validate[x]) == 0:\n",
    "            neg_correct += 1\n",
    "        else:\n",
    "            pos_correct += 1\n",
    "    if np.argmax(Y_validate[x]) == 0:\n",
    "        neg_cnt += 1\n",
    "    else:\n",
    "        pos_cnt += 1\n",
    "print(\"positive_acc\", pos_correct/pos_cnt*100, \"%\")\n",
    "print(\"negative_acc\", neg_correct/neg_cnt*100, \"%\")\n",
    "#now testing  on a random sample from the Facebook comments on"
   ]
  },
  {
   "cell_type": "code",
   "execution_count": 81,
   "id": "7a308318",
   "metadata": {},
   "outputs": [
    {
     "name": "stdout",
     "output_type": "stream",
     "text": [
      "[[  0   0   0   0   0   0   0   0   0   0   0   0   0   0   0   0   0   0\n",
      "    0   0   0   0   0   0   0   0   0   0   0   0   0   0   0   0   0   0\n",
      "    0   0   0   0   0   0   0   0   0   0   0   0   0   0   0   0   0   0\n",
      "    0   0   0   0   0   0   0   0   0   0   0   0   0   0   0   0   0   0\n",
      "    0   0   0   0   0   0   0   0   0   0   0   0   0   0   0   0   0   0\n",
      "    0   0   0   0   0   0   0   0   0   0   0   0   0   0   0   0   0   0\n",
      "    0   0   0   0   0   0   0   0   0   0   0   0   0   0   0   0   0   0\n",
      "    0   0   0   0   0   0   0   0   0   0   0   0   0   0   0   0   0   0\n",
      "    0   0   0   0   0   0   0   0   0   0   0   0   0   0   0   0   0   0\n",
      "    0   0   0   0   0   0   0   0   0   0   0   0   0   0   0   0   0   0\n",
      "    0   0   0   0   0   0   0   0  51 510 674  12   2 895   1  69  11   6\n",
      "   13  16  20   3   4]]\n",
      "1/1 - 0s\n",
      "positive\n"
     ]
    }
   ],
   "source": [
    "cmnt = ['your customer service is the absolute worst i now have a mess of books on my kindle']\n",
    "#vectorizing the comment\n",
    "cmnt = tokenizer.texts_to_sequences(cmnt)\n",
    "cmnt = pad_sequences(cmnt, maxlen=203, dtype='int32', value=0)\n",
    "print(cmnt)\n",
    "sentiment = model.predict(cmnt,batch_size=2,verbose = 2)[0]\n",
    "if(np.argmax(sentiment) == 0):\n",
    "    print(\"negative\")\n",
    "elif (np.argmax(sentiment) == 1):\n",
    "    print(\"positive\")"
   ]
  },
  {
   "cell_type": "code",
   "execution_count": null,
   "id": "f744248e",
   "metadata": {},
   "outputs": [],
   "source": []
  }
 ],
 "metadata": {
  "kernelspec": {
   "display_name": "Python 3",
   "language": "python",
   "name": "python3"
  },
  "language_info": {
   "codemirror_mode": {
    "name": "ipython",
    "version": 3
   },
   "file_extension": ".py",
   "mimetype": "text/x-python",
   "name": "python",
   "nbconvert_exporter": "python",
   "pygments_lexer": "ipython3",
   "version": "3.8.8"
  }
 },
 "nbformat": 4,
 "nbformat_minor": 5
}
